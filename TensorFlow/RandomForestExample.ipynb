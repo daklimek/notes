{
 "cells": [
  {
   "cell_type": "markdown",
   "metadata": {},
   "source": [
    "source: https://github.com/aymericdamien/TensorFlow-Examples/blob/master/notebooks/2_BasicModels/random_forest.ipynb\n"
   ]
  },
  {
   "cell_type": "code",
   "execution_count": 16,
   "metadata": {},
   "outputs": [],
   "source": [
    "import tensorflow as tf\n",
    "from tensorflow.python.ops import resources\n",
    "from tensorflow.contrib.tensor_forest.python import tensor_forest\n",
    "\n",
    "import pandas as pd\n",
    "import numpy as np\n",
    "\n",
    "from dateutil.parser import parse\n",
    "\n",
    "\n",
    "# Ignore GPUs since TF random forest does not benifit from it.\n",
    "import os\n",
    "os.environ[\"CUDE_VISIBLE_DEVICES\"] = \"\""
   ]
  },
  {
   "cell_type": "code",
   "execution_count": 17,
   "metadata": {},
   "outputs": [
    {
     "data": {
      "text/plain": [
       "401125"
      ]
     },
     "execution_count": 17,
     "metadata": {},
     "output_type": "execute_result"
    }
   ],
   "source": [
    "raw = pd.read_csv('data\\BullDozersTrain.csv', index_col='SalesID')\n",
    "len(raw)"
   ]
  },
  {
   "cell_type": "code",
   "execution_count": 18,
   "metadata": {},
   "outputs": [
    {
     "data": {
      "text/plain": [
       "SalePrice                     int64\n",
       "MachineID                     int64\n",
       "ModelID                       int64\n",
       "datasource                    int64\n",
       "auctioneerID                float64\n",
       "YearMade                      int64\n",
       "MachineHoursCurrentMeter    float64\n",
       "UsageBand                    object\n",
       "saledate                     object\n",
       "fiModelDesc                  object\n",
       "fiBaseModel                  object\n",
       "fiSecondaryDesc              object\n",
       "fiModelSeries                object\n",
       "fiModelDescriptor            object\n",
       "ProductSize                  object\n",
       "fiProductClassDesc           object\n",
       "state                        object\n",
       "ProductGroup                 object\n",
       "ProductGroupDesc             object\n",
       "Drive_System                 object\n",
       "Enclosure                    object\n",
       "Forks                        object\n",
       "Pad_Type                     object\n",
       "Ride_Control                 object\n",
       "Stick                        object\n",
       "Transmission                 object\n",
       "Turbocharged                 object\n",
       "Blade_Extension              object\n",
       "Blade_Width                  object\n",
       "Enclosure_Type               object\n",
       "Engine_Horsepower            object\n",
       "Hydraulics                   object\n",
       "Pushblock                    object\n",
       "Ripper                       object\n",
       "Scarifier                    object\n",
       "Tip_Control                  object\n",
       "Tire_Size                    object\n",
       "Coupler                      object\n",
       "Coupler_System               object\n",
       "Grouser_Tracks               object\n",
       "Hydraulics_Flow              object\n",
       "Track_Type                   object\n",
       "Undercarriage_Pad_Width      object\n",
       "Stick_Length                 object\n",
       "Thumb                        object\n",
       "Pattern_Changer              object\n",
       "Grouser_Type                 object\n",
       "Backhoe_Mounting             object\n",
       "Blade_Type                   object\n",
       "Travel_Controls              object\n",
       "Differential_Type            object\n",
       "Steering_Controls            object\n",
       "dtype: object"
      ]
     },
     "execution_count": 18,
     "metadata": {},
     "output_type": "execute_result"
    }
   ],
   "source": [
    "raw.dtypes"
   ]
  },
  {
   "cell_type": "code",
   "execution_count": 50,
   "metadata": {},
   "outputs": [],
   "source": [
    "def add_times(df, column):\n",
    "    added_column_names = []\n",
    "    \n",
    "    name = column + 'Year'\n",
    "    df[name] = df[column].dt.year\n",
    "    added_column_names.append(name)\n",
    "    \n",
    "    name = column + 'Month'\n",
    "    df[name] = df[column].dt.month\n",
    "    added_column_names.append(name)\n",
    "    \n",
    "    name = column + 'Day'\n",
    "    df[name] = df[column].dt.day\n",
    "    added_column_names.append(name)\n",
    "    \n",
    "    return added_column_names\n",
    "\n",
    "def convert_to_date(df, column):\n",
    "    # https://docs.python.org/2.7/library/datetime.html#datetime.datetime.strptime\n",
    "    df[column] = pd.to_datetime(df[column], format='%m/%d/%Y %H:%M')    \n",
    "\n",
    "class CleanedDataFrame:\n",
    "    def __init__(self):\n",
    "        self.input_columns = []\n",
    "        self.output_columns = []\n",
    "        self.df = None\n",
    "        \n",
    "    def __repr__(self):\n",
    "        return f'output_columns:{str(self.output_columns)} input_columns:{str(self.input_columns)} df:{self.df.shape}'\n",
    "\n",
    "def clean_data_frame(raw_df):\n",
    "    \n",
    "    input_columns = []\n",
    "    output_columns = []\n",
    "    df = raw_df.copy()\n",
    "    df['SalePriceLog'] = np.log(df.SalePrice)  \n",
    "    output_columns.append('SalePriceLog')\n",
    "    \n",
    "    \n",
    "    # Get rid of all of the columns that are not explicitly defined\n",
    "    columns_to_drop = []\n",
    "    for column in df:\n",
    "        if column not in output_columns:\n",
    "            columns_to_drop.append(column)\n",
    "            \n",
    "    convert_to_date(df, 'saledate')\n",
    "    \n",
    "    input_columns += add_times(df, 'saledate')\n",
    "            \n",
    "    df = df.drop(columns=columns_to_drop)\n",
    "    \n",
    "    ret = CleanedDataFrame()\n",
    "    ret.input_columns = input_columns\n",
    "    ret.output_columns = output_columns\n",
    "    ret.df = df\n",
    "    \n",
    "    return ret"
   ]
  },
  {
   "cell_type": "code",
   "execution_count": 51,
   "metadata": {},
   "outputs": [
    {
     "data": {
      "text/plain": [
       "output_columns:['SalePriceLog'] input_columns:['saledateYear', 'saledateMonth', 'saledateDay'] df:(401125, 4)"
      ]
     },
     "execution_count": 51,
     "metadata": {},
     "output_type": "execute_result"
    }
   ],
   "source": [
    "result = clean_data_frame(raw)\n",
    "result"
   ]
  },
  {
   "cell_type": "code",
   "execution_count": 53,
   "metadata": {},
   "outputs": [
    {
     "data": {
      "text/plain": [
       "SalePriceLog     float64\n",
       "saledateYear       int64\n",
       "saledateMonth      int64\n",
       "saledateDay        int64\n",
       "dtype: object"
      ]
     },
     "execution_count": 53,
     "metadata": {},
     "output_type": "execute_result"
    }
   ],
   "source": [
    "result.df.dtypes"
   ]
  },
  {
   "cell_type": "code",
   "execution_count": null,
   "metadata": {},
   "outputs": [],
   "source": []
  }
 ],
 "metadata": {
  "kernelspec": {
   "display_name": "Python 3",
   "language": "python",
   "name": "python3"
  },
  "language_info": {
   "codemirror_mode": {
    "name": "ipython",
    "version": 3
   },
   "file_extension": ".py",
   "mimetype": "text/x-python",
   "name": "python",
   "nbconvert_exporter": "python",
   "pygments_lexer": "ipython3",
   "version": "3.6.7"
  }
 },
 "nbformat": 4,
 "nbformat_minor": 2
}
