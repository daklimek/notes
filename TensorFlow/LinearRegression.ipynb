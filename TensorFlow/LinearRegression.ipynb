{
 "cells": [
  {
   "cell_type": "markdown",
   "metadata": {},
   "source": [
    "source: https://github.com/aymericdamien/TensorFlow-Examples/blob/master/notebooks/2_BasicModels/linear_regression.ipynb"
   ]
  },
  {
   "cell_type": "code",
   "execution_count": 1,
   "metadata": {},
   "outputs": [],
   "source": [
    "import tensorflow as tf\n",
    "import numpy as np\n",
    "import matplotlib.pyplot as plt\n",
    "rng = np.random"
   ]
  },
  {
   "cell_type": "code",
   "execution_count": 20,
   "metadata": {},
   "outputs": [],
   "source": [
    "learning_rate = 0.01\n",
    "training_epochs = 10000\n",
    "display_step = 1000"
   ]
  },
  {
   "cell_type": "code",
   "execution_count": 3,
   "metadata": {},
   "outputs": [],
   "source": [
    "train_X = np.asarray([3.3,4.4,5.5,6.71,6.93,4.168,9.779,6.182,7.59,2.167,\n",
    "                         7.042,10.791,5.313,7.997,5.654,9.27,3.1])\n",
    "train_Y = np.asarray([1.7,2.76,2.09,3.19,1.694,1.573,3.366,2.596,2.53,1.221,\n",
    "                         2.827,3.465,1.65,2.904,2.42,2.94,1.3])\n",
    "n_samples = train_X.shape[0]"
   ]
  },
  {
   "cell_type": "code",
   "execution_count": 4,
   "metadata": {},
   "outputs": [],
   "source": [
    "x = tf.placeholder('float')\n",
    "y = tf.placeholder('float')\n",
    "\n",
    "W = tf.Variable(rng.randn(), name = 'weight')\n",
    "b = tf.Variable(rng.randn(), name = 'bias')"
   ]
  },
  {
   "cell_type": "code",
   "execution_count": 5,
   "metadata": {},
   "outputs": [],
   "source": [
    "pred = tf.add(tf.multiply(x, W), b)"
   ]
  },
  {
   "cell_type": "code",
   "execution_count": 6,
   "metadata": {},
   "outputs": [],
   "source": [
    "# mean squared error\n",
    "cost = tf.reduce_sum(tf.pow(pred - y, 2)) / (2*n_samples)\n",
    "\n",
    "optimizer = tf.train.GradientDescentOptimizer(learning_rate).minimize(cost)"
   ]
  },
  {
   "cell_type": "code",
   "execution_count": 7,
   "metadata": {},
   "outputs": [],
   "source": [
    "init = tf.global_variables_initializer()"
   ]
  },
  {
   "cell_type": "code",
   "execution_count": 16,
   "metadata": {},
   "outputs": [
    {
     "name": "stdout",
     "output_type": "stream",
     "text": [
      "Epoch:0100 Cost:0.11067 W:0.14734 b:1.53710\n",
      "Epoch:0200 Cost:0.10336 W:0.15914 b:1.45221\n",
      "Epoch:0300 Cost:0.09764 W:0.16958 b:1.37711\n",
      "Epoch:0400 Cost:0.09316 W:0.17881 b:1.31067\n",
      "Epoch:0500 Cost:0.08965 W:0.18698 b:1.25190\n",
      "Epoch:0600 Cost:0.08691 W:0.19421 b:1.19991\n",
      "Epoch:0700 Cost:0.08476 W:0.20060 b:1.15393\n",
      "Epoch:0800 Cost:0.08308 W:0.20625 b:1.11325\n",
      "Epoch:0900 Cost:0.08176 W:0.21125 b:1.07727\n",
      "Epoch:1000 Cost:0.08073 W:0.21568 b:1.04544\n"
     ]
    },
    {
     "data": {
      "image/png": "[encoded data removed]",
      "text/plain": [
       "<Figure size 432x288 with 1 Axes>"
      ]
     },
     "metadata": {
      "needs_background": "light"
     },
     "output_type": "display_data"
    }
   ],
   "source": [
    "with tf.Session() as sess:\n",
    "    sess.run(init)\n",
    "    \n",
    "    for epoch in range(training_epochs):\n",
    "        for (xt, yt) in zip(train_X, train_Y):\n",
    "            sess.run(optimizer, feed_dict={x: xt, y: yt})\n",
    "            \n",
    "        if ((epoch + 1) % display_step) == 0:\n",
    "            c = sess.run(cost, feed_dict={x: train_X, y: train_Y})\n",
    "            print(f'Epoch:{epoch + 1:04d} Cost:{c:.5f} W:{sess.run(W):.5f} b:{sess.run(b):.5f}')\n",
    "            \n",
    "    plt.plot(train_X, train_Y, 'ro', label='Original data')\n",
    "    plt.plot(train_X, sess.run(W) * train_X + sess.run(b), label='Fitted line')\n",
    "    plt.legend()\n",
    "    plt.show()\n",
    "    "
   ]
  },
  {
   "cell_type": "code",
   "execution_count": 22,
   "metadata": {},
   "outputs": [
    {
     "name": "stdout",
     "output_type": "stream",
     "text": [
      "Epoch:1000 Cost:0.08073 W:0.21669 b:1.04654\n",
      "Epoch:2000 Cost:0.07726 W:0.24126 b:0.87234\n",
      "Epoch:3000 Cost:0.07696 W:0.24856 b:0.82063\n",
      "Epoch:4000 Cost:0.07693 W:0.25072 b:0.80528\n",
      "Epoch:5000 Cost:0.07693 W:0.25136 b:0.80073\n",
      "Epoch:6000 Cost:0.07693 W:0.25155 b:0.79937\n",
      "Epoch:7000 Cost:0.07693 W:0.25161 b:0.79897\n",
      "Epoch:8000 Cost:0.07693 W:0.25163 b:0.79886\n",
      "Epoch:9000 Cost:0.07693 W:0.25163 b:0.79883\n",
      "Epoch:10000 Cost:0.07693 W:0.25163 b:0.79883\n"
     ]
    },
    {
     "data": {
      "image/png": "[encoded data removed]",
      "text/plain": [
       "<Figure size 432x288 with 1 Axes>"
      ]
     },
     "metadata": {
      "needs_background": "light"
     },
     "output_type": "display_data"
    }
   ],
   "source": [
    "# This is a bit faster because we train the entire data set at once\n",
    "\n",
    "with tf.Session() as sess:\n",
    "    sess.run(init)\n",
    "    \n",
    "    for epoch in range(training_epochs):\n",
    "        sess.run(optimizer, feed_dict={x: train_X, y: train_Y})\n",
    "            \n",
    "        if ((epoch + 1) % display_step) == 0:\n",
    "            c = sess.run(cost, feed_dict={x: train_X, y: train_Y})\n",
    "            print(f'Epoch:{epoch + 1:04d} Cost:{c:.5f} W:{sess.run(W):.5f} b:{sess.run(b):.5f}')\n",
    "            \n",
    "    plt.plot(train_X, train_Y, 'ro', label='Original data')\n",
    "    plt.plot(train_X, sess.run(W) * train_X + sess.run(b), label='Fitted line')\n",
    "    plt.legend()\n",
    "    plt.show()"
   ]
  },
  {
   "cell_type": "code",
   "execution_count": null,
   "metadata": {},
   "outputs": [],
   "source": []
  }
 ],
 "metadata": {
  "kernelspec": {
   "display_name": "Python 3",
   "language": "python",
   "name": "python3"
  },
  "language_info": {
   "codemirror_mode": {
    "name": "ipython",
    "version": 3
   },
   "file_extension": ".py",
   "mimetype": "text/x-python",
   "name": "python",
   "nbconvert_exporter": "python",
   "pygments_lexer": "ipython3",
   "version": "3.6.7"
  }
 },
 "nbformat": 4,
 "nbformat_minor": 2
}
