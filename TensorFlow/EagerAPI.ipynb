{
 "cells": [
  {
   "cell_type": "markdown",
   "metadata": {},
   "source": [
    "followed this: https://github.com/aymericdamien/TensorFlow-Examples/blob/master/notebooks/1_Introduction/basic_eager_api.ipynb"
   ]
  },
  {
   "cell_type": "code",
   "execution_count": 1,
   "metadata": {},
   "outputs": [],
   "source": [
    "import numpy as np\n",
    "import tensorflow as tf"
   ]
  },
  {
   "cell_type": "code",
   "execution_count": 2,
   "metadata": {},
   "outputs": [],
   "source": [
    "# Eager execution allows you to execute things without a session"
   ]
  },
  {
   "cell_type": "code",
   "execution_count": 12,
   "metadata": {},
   "outputs": [],
   "source": [
    "tf.enable_eager_execution()"
   ]
  },
  {
   "cell_type": "code",
   "execution_count": 13,
   "metadata": {},
   "outputs": [],
   "source": [
    "# Define two constants\n",
    "a = tf.constant(2)\n",
    "b = tf.constant(3)"
   ]
  },
  {
   "cell_type": "code",
   "execution_count": 18,
   "metadata": {},
   "outputs": [
    {
     "name": "stdout",
     "output_type": "stream",
     "text": [
      "Sum of two constants:5\n",
      "Product of two constants:6\n"
     ]
    }
   ],
   "source": [
    "print(f\"Sum of two constants:{a + b}\")\n",
    "print(f\"Product of two constants:{a * b}\")"
   ]
  },
  {
   "cell_type": "code",
   "execution_count": 36,
   "metadata": {},
   "outputs": [
    {
     "name": "stdout",
     "output_type": "stream",
     "text": [
      "ma:[[2. 1.]\n",
      " [1. 0.]]\n",
      "mb:[[3. 0.]\n",
      " [5. 1.]]\n"
     ]
    }
   ],
   "source": [
    "# Define two matrix constants\n",
    "ma = tf.constant([[2.0, 1.0], [1.0, 0.0]], dtype=tf.float32)\n",
    "mb = tf.constant([[3.0, 0.0], [5.0, 1.0]], dtype=tf.float32)\n",
    "\n",
    "print(f\"ma:{ma}\")\n",
    "print(f\"mb:{mb}\")"
   ]
  },
  {
   "cell_type": "code",
   "execution_count": 32,
   "metadata": {},
   "outputs": [
    {
     "name": "stdout",
     "output_type": "stream",
     "text": [
      "Sum of two matrices:[[5. 1.]\n",
      " [6. 1.]]\n",
      "Product of two matrices:[[6. 0.]\n",
      " [5. 0.]]\n"
     ]
    }
   ],
   "source": [
    "print(f\"Sum of two matrices:{ma + mb}\")\n",
    "print(f\"Product of two matrices:{ma * mb}\")"
   ]
  },
  {
   "cell_type": "code",
   "execution_count": 35,
   "metadata": {},
   "outputs": [
    {
     "name": "stdout",
     "output_type": "stream",
     "text": [
      "tf.Tensor(2.0, shape=(), dtype=float32)\n",
      "tf.Tensor(1.0, shape=(), dtype=float32)\n",
      "tf.Tensor(1.0, shape=(), dtype=float32)\n",
      "tf.Tensor(0.0, shape=(), dtype=float32)\n"
     ]
    }
   ],
   "source": [
    "# Iterate over a tensor\n",
    "for i in range(ma.shape[0]):\n",
    "    for j in range(ma.shape[1]):\n",
    "        print(ma[i][j])"
   ]
  }
 ],
 "metadata": {
  "kernelspec": {
   "display_name": "Python 3",
   "language": "python",
   "name": "python3"
  },
  "language_info": {
   "codemirror_mode": {
    "name": "ipython",
    "version": 3
   },
   "file_extension": ".py",
   "mimetype": "text/x-python",
   "name": "python",
   "nbconvert_exporter": "python",
   "pygments_lexer": "ipython3",
   "version": "3.6.7"
  }
 },
 "nbformat": 4,
 "nbformat_minor": 2
}
